{
  "nbformat": 4,
  "nbformat_minor": 0,
  "metadata": {
    "colab": {
      "name": "Movie_Recommendation.ipynb",
      "version": "0.3.2",
      "provenance": [],
      "include_colab_link": true
    },
    "kernelspec": {
      "display_name": "Python 3",
      "language": "python",
      "name": "python3"
    }
  },
  "cells": [
    {
      "cell_type": "markdown",
      "metadata": {
        "id": "view-in-github",
        "colab_type": "text"
      },
      "source": [
        "<a href=\"https://colab.research.google.com/github/BeverlyHuang/Netflix-Movie-recommendation/blob/master/Movie_Recommendation.ipynb\" target=\"_parent\"><img src=\"https://colab.research.google.com/assets/colab-badge.svg\" alt=\"Open In Colab\"/></a>"
      ]
    },
    {
      "metadata": {
        "_uuid": "689e0500abe3bd15f72c1cb3010c538c90631b50",
        "_cell_guid": "68066366-4219-4779-a159-d503bdedbfdd",
        "id": "e_AzNBt9NXGm",
        "colab_type": "text"
      },
      "cell_type": "markdown",
      "source": [
        "# Movie Recommendation"
      ]
    },
    {
      "metadata": {
        "id": "E4grqZBNsMvM",
        "colab_type": "text"
      },
      "cell_type": "markdown",
      "source": [
        "This project aims to create a recommendation system for Netflix based on historical review data of users to each movie. Surprise package in Python will be applied for model building and evaluation."
      ]
    },
    {
      "metadata": {
        "id": "04dl8q-4PULH",
        "colab_type": "text"
      },
      "cell_type": "markdown",
      "source": [
        "#Ingestion"
      ]
    },
    {
      "metadata": {
        "id": "VM_FG5MOPPhp",
        "colab_type": "text"
      },
      "cell_type": "markdown",
      "source": [
        "##Import Packages"
      ]
    },
    {
      "metadata": {
        "id": "NO7D2H4qPd31",
        "colab_type": "code",
        "outputId": "50c2ae85-6071-4943-aa35-8b34704f5300",
        "colab": {
          "base_uri": "https://localhost:8080/",
          "height": 51
        }
      },
      "cell_type": "code",
      "source": [
        "!pip install -q scikit-surprise"
      ],
      "execution_count": 0,
      "outputs": [
        {
          "output_type": "stream",
          "text": [
            "\u001b[K    100% |████████████████████████████████| 3.3MB 5.7MB/s \n",
            "\u001b[?25h  Building wheel for scikit-surprise (setup.py) ... \u001b[?25ldone\n",
            "\u001b[?25h"
          ],
          "name": "stdout"
        }
      ]
    },
    {
      "metadata": {
        "_uuid": "3bc39967a41f9ec3989f971c49916b822b0806b7",
        "_cell_guid": "046298b9-7ef7-4e68-aef2-a1fe316be5a0",
        "trusted": false,
        "id": "HOzJ-dl4NXGt",
        "colab_type": "code",
        "colab": {}
      },
      "cell_type": "code",
      "source": [
        "import pandas as pd\n",
        "import numpy as np\n",
        "import math\n",
        "import matplotlib.pyplot as plt\n",
        "import seaborn as sns\n",
        "from surprise import Reader, Dataset, SVD, evaluate\n",
        "from surprise.model_selection import cross_validate, GridSearchCV\n",
        "sns.set_style(\"darkgrid\")"
      ],
      "execution_count": 0,
      "outputs": []
    },
    {
      "metadata": {
        "_uuid": "8656955e16b88d57f19a3789c90069059ba884b9",
        "_cell_guid": "fbfaefbf-fda2-46ce-9e22-59b2c8d17fa2",
        "id": "9Zv_Qx8nNXGn",
        "colab_type": "text"
      },
      "cell_type": "markdown",
      "source": [
        "## Load Data"
      ]
    },
    {
      "metadata": {
        "id": "7vxSjppQOZf_",
        "colab_type": "code",
        "outputId": "f3e47b94-a8b8-4e0c-94cc-25914dc3cf94",
        "colab": {
          "base_uri": "https://localhost:8080/",
          "height": 34
        }
      },
      "cell_type": "code",
      "source": [
        "from google.colab import drive\n",
        "drive.mount(\"/content/drive\")"
      ],
      "execution_count": 0,
      "outputs": [
        {
          "output_type": "stream",
          "text": [
            "Drive already mounted at /content/drive; to attempt to forcibly remount, call drive.mount(\"/content/drive\", force_remount=True).\n"
          ],
          "name": "stdout"
        }
      ]
    },
    {
      "metadata": {
        "id": "Qh-ICnMoOfUI",
        "colab_type": "code",
        "outputId": "528c940c-dd59-44e3-cf04-bef3b5e25592",
        "colab": {
          "base_uri": "https://localhost:8080/",
          "height": 34
        }
      },
      "cell_type": "code",
      "source": [
        "import os\n",
        "path = \"/content/drive\"\n",
        "os.chdir(path)\n",
        "os.listdir(path)\n",
        "print(os.getcwd())"
      ],
      "execution_count": 0,
      "outputs": [
        {
          "output_type": "stream",
          "text": [
            "/content/drive\n"
          ],
          "name": "stdout"
        }
      ]
    },
    {
      "metadata": {
        "_uuid": "665b9a4bceca7bb318e39f1a5825170b18c6cc63",
        "_cell_guid": "be4477f1-7a11-48f4-8147-262a6198609f",
        "id": "95OG3HW2NXGx",
        "colab_type": "text"
      },
      "cell_type": "markdown",
      "source": [
        "In this notebook, we only use data in the first file."
      ]
    },
    {
      "metadata": {
        "_uuid": "2a5476e11ee4539c129f2da35fccdacf2c296765",
        "_cell_guid": "0343ba37-0654-469c-98e5-812ecbaca528",
        "trusted": false,
        "id": "CE-kfFO1NXGz",
        "colab_type": "code",
        "outputId": "dbedfd3e-916c-40a3-bfeb-0e99b1a2564e",
        "colab": {
          "base_uri": "https://localhost:8080/",
          "height": 153
        }
      },
      "cell_type": "code",
      "source": [
        "# Skip date\n",
        "df = pd.read_csv('My Drive/Colab Notebooks/452_HW/HW7/combined_data_1.txt', header = None, names = ['Cust_Id', 'Rating'], usecols = [0,1])\n",
        "\n",
        "df['Rating'] = df['Rating'].astype(float)\n",
        "\n",
        "print('Dataset shape: {}'.format(df.shape))\n",
        "print('-Dataset examples-')\n",
        "print(df.iloc[::5000000, :])"
      ],
      "execution_count": 0,
      "outputs": [
        {
          "output_type": "stream",
          "text": [
            "Dataset shape: (24058263, 2)\n",
            "-Dataset examples-\n",
            "          Cust_Id  Rating\n",
            "0              1:     NaN\n",
            "5000000   2560324     4.0\n",
            "10000000  2271935     2.0\n",
            "15000000  1921803     2.0\n",
            "20000000  1933327     3.0\n"
          ],
          "name": "stdout"
        }
      ]
    },
    {
      "metadata": {
        "id": "N38J542omgP9",
        "colab_type": "text"
      },
      "cell_type": "markdown",
      "source": [
        "#EDA"
      ]
    },
    {
      "metadata": {
        "_uuid": "5bfa706c8f28f965b669dcfb285c9c32c1478bad",
        "_cell_guid": "78a857d7-1ab1-4d93-b750-9c14b4ba2c9a",
        "id": "QXEjidz4NXHC",
        "colab_type": "text"
      },
      "cell_type": "markdown",
      "source": [
        "## Data Spread"
      ]
    },
    {
      "metadata": {
        "_uuid": "7e8780821d463af5bdcee9ec2662cf27d89745e4",
        "_cell_guid": "0d82d7df-6c77-44f2-a0bc-70ae0324329f",
        "trusted": false,
        "id": "W79vE0C6NXHG",
        "colab_type": "code",
        "outputId": "43c15ccf-607a-486c-8553-8b4997b8b928",
        "colab": {
          "base_uri": "https://localhost:8080/",
          "height": 612
        }
      },
      "cell_type": "code",
      "source": [
        "p = df.groupby('Rating')['Rating'].agg(['count'])\n",
        "\n",
        "# get movie count\n",
        "movie_count = df.isnull().sum()[1]\n",
        "\n",
        "# get customer count\n",
        "cust_count = df['Cust_Id'].nunique() - movie_count\n",
        "\n",
        "# get rating count\n",
        "rating_count = df['Cust_Id'].count() - movie_count\n",
        "\n",
        "ax = p.plot(kind = 'barh', legend = False, figsize = (15,10))\n",
        "plt.title('Total pool: {:,} Movies, {:,} customers, {:,} ratings given'.format(movie_count, cust_count, rating_count), fontsize=20)\n",
        "plt.axis('off')\n",
        "\n",
        "for i in range(1,6):\n",
        "    ax.text(p.iloc[i-1][0]/4, i-1, 'Rating {}: {:.0f}%'.format(i, p.iloc[i-1][0]*100 / p.sum()[0]), color = 'white', weight = 'bold')"
      ],
      "execution_count": 0,
      "outputs": [
        {
          "output_type": "display_data",
          "data": {
            "image/png": "[encoded data removed]",
            "text/plain": [
              "<Figure size 1080x720 with 1 Axes>"
            ]
          },
          "metadata": {
            "tags": []
          }
        }
      ]
    },
    {
      "metadata": {
        "_uuid": "bf7bd867b322b3e40c4eb1204d345029b4eb31b6",
        "_cell_guid": "581427e0-87df-46b1-a0af-7eb06932b1a3",
        "id": "rsXjbqQwNXHL",
        "colab_type": "text"
      },
      "cell_type": "markdown",
      "source": [
        "## Data Cleaning"
      ]
    },
    {
      "metadata": {
        "_uuid": "498476341fad8d25d24090c07ea4b48299f9424a",
        "_cell_guid": "d06e0993-d5ff-4f75-87a7-7659f5427ebf",
        "trusted": false,
        "id": "RbMqvXIcNXHP",
        "colab_type": "code",
        "outputId": "8b13e744-3d5d-4035-f5aa-db30ceab7d77",
        "colab": {
          "base_uri": "https://localhost:8080/",
          "height": 51
        }
      },
      "cell_type": "code",
      "source": [
        "df_nan = pd.DataFrame(pd.isnull(df.Rating))\n",
        "df_nan = df_nan[df_nan['Rating'] == True]\n",
        "df_nan = df_nan.reset_index()\n",
        "\n",
        "movie_np = []\n",
        "movie_id = 1\n",
        "\n",
        "for i,j in zip(df_nan['index'][1:],df_nan['index'][:-1]):\n",
        "    # numpy approach\n",
        "    temp = np.full((1,i-j-1), movie_id) # Return an array filled with movie_id # the length is calculated by difference b/w two neighboring indices\n",
        "    movie_np = np.append(movie_np, temp)\n",
        "    movie_id += 1\n",
        "\n",
        "# Account for last record and corresponding length\n",
        "# numpy approach\n",
        "last_record = np.full((1,len(df) - df_nan.iloc[-1, 0] - 1),movie_id)\n",
        "movie_np = np.append(movie_np, last_record)\n",
        "\n",
        "print('Movie numpy: {}'.format(movie_np))\n",
        "print('Length: {}'.format(len(movie_np)))"
      ],
      "execution_count": 0,
      "outputs": [
        {
          "output_type": "stream",
          "text": [
            "Movie numpy: [1.000e+00 1.000e+00 1.000e+00 ... 4.499e+03 4.499e+03 4.499e+03]\n",
            "Length: 24053764\n"
          ],
          "name": "stdout"
        }
      ]
    },
    {
      "metadata": {
        "_uuid": "73c7888f9cf7e1d0f705c6a14019d9371eaa9bf3",
        "_cell_guid": "e7da935d-a055-4ce6-9509-9c0439fda1de",
        "trusted": false,
        "id": "Pr8BfHI-NXHS",
        "colab_type": "code",
        "outputId": "f22f62cf-7d68-477a-a8c7-b75f6effc675",
        "colab": {
          "base_uri": "https://localhost:8080/",
          "height": 136
        }
      },
      "cell_type": "code",
      "source": [
        "# remove those Movie ID rows\n",
        "df = df[pd.notnull(df['Rating'])]\n",
        "\n",
        "df['Movie_Id'] = movie_np.astype(int)\n",
        "df['Cust_Id'] = df['Cust_Id'].astype(int)\n",
        "print('-Dataset examples-')\n",
        "print(df.iloc[::5000000, :])\n"
      ],
      "execution_count": 0,
      "outputs": [
        {
          "output_type": "stream",
          "text": [
            "-Dataset examples-\n",
            "          Cust_Id  Rating  Movie_Id\n",
            "1         1488844     3.0         1\n",
            "5000996    501954     2.0       996\n",
            "10001962   404654     5.0      1962\n",
            "15002876   886608     2.0      2876\n",
            "20003825  1193835     2.0      3825\n"
          ],
          "name": "stdout"
        }
      ]
    },
    {
      "metadata": {
        "_uuid": "7abf85f047576e1c8fe7742e28bd2a55d33c366c",
        "_cell_guid": "fd1a2d66-78b0-4191-8ca2-0caef60e91fa",
        "id": "7R5tlnyYNXHV",
        "colab_type": "text"
      },
      "cell_type": "markdown",
      "source": [
        "## Data Slicing"
      ]
    },
    {
      "metadata": {
        "_uuid": "b8987bf7e2cfcdc2a69fb767c4033d05240cc5a3",
        "_cell_guid": "1db45c46-ee82-4db5-be2c-919258c09d47",
        "trusted": false,
        "id": "x7KKnvcDNXHX",
        "colab_type": "code",
        "outputId": "59c1897d-d993-4088-9cec-a5e4e9456d61",
        "colab": {
          "base_uri": "https://localhost:8080/",
          "height": 51
        }
      },
      "cell_type": "code",
      "source": [
        "f = ['count','mean']\n",
        "\n",
        "df_movie_summary = df.groupby('Movie_Id')['Rating'].agg(f)\n",
        "df_movie_summary.index = df_movie_summary.index.map(int)\n",
        "movie_benchmark = round(df_movie_summary['count'].quantile(0.8),0)\n",
        "drop_movie_list = df_movie_summary[df_movie_summary['count'] < movie_benchmark].index\n",
        "\n",
        "print('Movie minimum times of review: {}'.format(movie_benchmark))\n",
        "\n",
        "df_cust_summary = df.groupby('Cust_Id')['Rating'].agg(f)\n",
        "df_cust_summary.index = df_cust_summary.index.map(int)\n",
        "cust_benchmark = round(df_cust_summary['count'].quantile(0.8),0)\n",
        "drop_cust_list = df_cust_summary[df_cust_summary['count'] < cust_benchmark].index\n",
        "\n",
        "print('Customer minimum times of review: {}'.format(cust_benchmark))"
      ],
      "execution_count": 0,
      "outputs": [
        {
          "output_type": "stream",
          "text": [
            "Movie minimum times of review: 3884.0\n",
            "Customer minimum times of review: 79.0\n"
          ],
          "name": "stdout"
        }
      ]
    },
    {
      "metadata": {
        "_uuid": "bc6022b8d87bfb7679984bcbd4b928a54ef19be8",
        "_cell_guid": "bebeaf19-b3a0-45d9-8a91-deaff2881d71",
        "id": "sEveeeJJNXHZ",
        "colab_type": "text"
      },
      "cell_type": "markdown",
      "source": [
        "Now let's trim down our data, whats the difference in data size?"
      ]
    },
    {
      "metadata": {
        "_uuid": "f09c53f0e7b7fea039437c43e5163a5a59250b70",
        "_cell_guid": "61f85e6a-3438-456b-b169-f42c0270a752",
        "trusted": false,
        "id": "enKOE08JNXHa",
        "colab_type": "code",
        "outputId": "147c4603-95a0-48b0-90c4-b9b644310914",
        "colab": {
          "base_uri": "https://localhost:8080/",
          "height": 136
        }
      },
      "cell_type": "code",
      "source": [
        "print('Original Shape: {}'.format(df.shape))\n",
        "df = df[~df['Movie_Id'].isin(drop_movie_list)]\n",
        "df = df[~df['Cust_Id'].isin(drop_cust_list)]\n",
        "print('After Trim Shape: {}'.format(df.shape))\n",
        "print('-Data Examples-')\n",
        "print(df.iloc[::5000000, :])"
      ],
      "execution_count": 0,
      "outputs": [
        {
          "output_type": "stream",
          "text": [
            "Original Shape: (24053764, 3)\n",
            "After Trim Shape: (13528427, 3)\n",
            "-Data Examples-\n",
            "          Cust_Id  Rating  Movie_Id\n",
            "5109       785314     1.0         8\n",
            "8889698    332300     3.0      1770\n",
            "17751978   629874     4.0      3391\n"
          ],
          "name": "stdout"
        }
      ]
    },
    {
      "metadata": {
        "_uuid": "598d5c85304513168b871257f5c3bd810a7a8da4",
        "_cell_guid": "62ba3943-5369-4df9-b33e-3a5a8b47e9f9",
        "id": "OglSx4LeNXHi",
        "colab_type": "text"
      },
      "cell_type": "markdown",
      "source": [
        "## Data Mapping"
      ]
    },
    {
      "metadata": {
        "_uuid": "d971e5a1ccd038f9a08e126daeb8995d30f9e014",
        "_cell_guid": "cec6d42b-adff-49c0-939c-2f92adae15a4",
        "trusted": false,
        "id": "q8iS3x_3NXHj",
        "colab_type": "code",
        "outputId": "d630087d-f05a-4520-da51-a0b8f8e982c8",
        "colab": {
          "base_uri": "https://localhost:8080/",
          "height": 235
        }
      },
      "cell_type": "code",
      "source": [
        "df_title = pd.read_csv('My Drive/Colab Notebooks/452_HW/HW7/movie_titles.csv', encoding = \"ISO-8859-1\", header = None, names = ['Movie_Id', 'Year', 'Name'])\n",
        "df_title.set_index('Movie_Id', inplace = True)\n",
        "df_title.head()"
      ],
      "execution_count": 0,
      "outputs": [
        {
          "output_type": "execute_result",
          "data": {
            "text/html": [
              "<div>\n",
              "<style scoped>\n",
              "    .dataframe tbody tr th:only-of-type {\n",
              "        vertical-align: middle;\n",
              "    }\n",
              "\n",
              "    .dataframe tbody tr th {\n",
              "        vertical-align: top;\n",
              "    }\n",
              "\n",
              "    .dataframe thead th {\n",
              "        text-align: right;\n",
              "    }\n",
              "</style>\n",
              "<table border=\"1\" class=\"dataframe\">\n",
              "  <thead>\n",
              "    <tr style=\"text-align: right;\">\n",
              "      <th></th>\n",
              "      <th>Year</th>\n",
              "      <th>Name</th>\n",
              "    </tr>\n",
              "    <tr>\n",
              "      <th>Movie_Id</th>\n",
              "      <th></th>\n",
              "      <th></th>\n",
              "    </tr>\n",
              "  </thead>\n",
              "  <tbody>\n",
              "    <tr>\n",
              "      <th>1</th>\n",
              "      <td>2003.0</td>\n",
              "      <td>Dinosaur Planet</td>\n",
              "    </tr>\n",
              "    <tr>\n",
              "      <th>2</th>\n",
              "      <td>2004.0</td>\n",
              "      <td>Isle of Man TT 2004 Review</td>\n",
              "    </tr>\n",
              "    <tr>\n",
              "      <th>3</th>\n",
              "      <td>1997.0</td>\n",
              "      <td>Character</td>\n",
              "    </tr>\n",
              "    <tr>\n",
              "      <th>4</th>\n",
              "      <td>1994.0</td>\n",
              "      <td>Paula Abdul's Get Up &amp; Dance</td>\n",
              "    </tr>\n",
              "    <tr>\n",
              "      <th>5</th>\n",
              "      <td>2004.0</td>\n",
              "      <td>The Rise and Fall of ECW</td>\n",
              "    </tr>\n",
              "  </tbody>\n",
              "</table>\n",
              "</div>"
            ],
            "text/plain": [
              "            Year                          Name\n",
              "Movie_Id                                      \n",
              "1         2003.0               Dinosaur Planet\n",
              "2         2004.0    Isle of Man TT 2004 Review\n",
              "3         1997.0                     Character\n",
              "4         1994.0  Paula Abdul's Get Up & Dance\n",
              "5         2004.0      The Rise and Fall of ECW"
            ]
          },
          "metadata": {
            "tags": []
          },
          "execution_count": 18
        }
      ]
    },
    {
      "metadata": {
        "_uuid": "c6becd707a3c14a5c76887789e21e9fbf150e9f8",
        "_cell_guid": "c1b464a7-3c69-4acb-adcb-00d8b3ec9c93",
        "id": "PkjNW3PwNXHp",
        "colab_type": "text"
      },
      "cell_type": "markdown",
      "source": [
        "# Recommendation Modeling: Collaborative Filtering using SVD"
      ]
    },
    {
      "metadata": {
        "id": "aYjTR9VSmW--",
        "colab_type": "text"
      },
      "cell_type": "markdown",
      "source": [
        "##Use first 100K rows to train a default SVD model"
      ]
    },
    {
      "metadata": {
        "id": "_772ILlTfeFm",
        "colab_type": "code",
        "outputId": "ca06b6d2-ae98-44df-8362-147beb97f6a6",
        "colab": {
          "base_uri": "https://localhost:8080/",
          "height": 204
        }
      },
      "cell_type": "code",
      "source": [
        "reader = Reader()\n",
        "\n",
        "# get just top 100K rows for faster run time\n",
        "data = Dataset.load_from_df(df[['Cust_Id', 'Movie_Id', 'Rating']][:100000], reader)\n",
        "\n",
        "# use default SVD parameters\n",
        "svd = SVD()\n",
        "cross_validate(svd, data, measures=['RMSE', 'MAE'], cv=3, verbose=True)"
      ],
      "execution_count": 0,
      "outputs": [
        {
          "output_type": "stream",
          "text": [
            "Evaluating RMSE, MAE of algorithm SVD on 3 split(s).\n",
            "\n",
            "                  Fold 1  Fold 2  Fold 3  Mean    Std     \n",
            "RMSE (testset)    0.9851  0.9807  0.9862  0.9840  0.0024  \n",
            "MAE (testset)     0.7893  0.7884  0.8002  0.7926  0.0054  \n",
            "Fit time          5.14    5.11    5.08    5.11    0.02    \n",
            "Test time         0.27    0.39    0.38    0.35    0.05    \n"
          ],
          "name": "stdout"
        },
        {
          "output_type": "execute_result",
          "data": {
            "text/plain": [
              "{'fit_time': (5.137081623077393, 5.112550497055054, 5.079605340957642),\n",
              " 'test_mae': array([0.78926611, 0.78843621, 0.80021854]),\n",
              " 'test_rmse': array([0.98513252, 0.98070832, 0.98619524]),\n",
              " 'test_time': (0.2711958885192871, 0.38899970054626465, 0.37882256507873535)}"
            ]
          },
          "metadata": {
            "tags": []
          },
          "execution_count": 20
        }
      ]
    },
    {
      "metadata": {
        "id": "wCXT465Dmctx",
        "colab_type": "text"
      },
      "cell_type": "markdown",
      "source": [
        "##Grid Search for the best SVD model"
      ]
    },
    {
      "metadata": {
        "id": "WQxbZYgySQHM",
        "colab_type": "code",
        "outputId": "6dcb1678-9621-46ea-fe57-5e86ef361463",
        "colab": {
          "base_uri": "https://localhost:8080/",
          "height": 51
        }
      },
      "cell_type": "code",
      "source": [
        "param_grid = {'n_epochs': [10, 30], 'lr_all': [0.003, 0.01],\n",
        "              'reg_all': [0.3, 0.8]}\n",
        "gs = GridSearchCV(SVD, param_grid, measures=['rmse', 'mae'], cv=3)\n",
        "\n",
        "gs.fit(data)\n",
        "\n",
        "# best RMSE score\n",
        "print(gs.best_score['rmse'])\n",
        "\n",
        "# combination of parameters that gave the best RMSE score\n",
        "print(gs.best_params['rmse'])"
      ],
      "execution_count": 0,
      "outputs": [
        {
          "output_type": "stream",
          "text": [
            "0.9776653775706298\n",
            "{'n_epochs': 30, 'lr_all': 0.003, 'reg_all': 0.3}\n"
          ],
          "name": "stdout"
        }
      ]
    },
    {
      "metadata": {
        "id": "49Jv-l6Mmjav",
        "colab_type": "text"
      },
      "cell_type": "markdown",
      "source": [
        "##Evaluate the best model"
      ]
    },
    {
      "metadata": {
        "id": "4k_v_ooKVu5G",
        "colab_type": "code",
        "outputId": "971de786-0297-486b-89b0-9cfbec2ab620",
        "colab": {
          "base_uri": "https://localhost:8080/",
          "height": 204
        }
      },
      "cell_type": "code",
      "source": [
        "# use grid search best parameters\n",
        "svd = SVD(n_epochs=30, lr_all=0.003, reg_all=0.3)\n",
        "cross_validate(svd, data, measures=['RMSE', 'MAE'], cv=3, verbose=True)"
      ],
      "execution_count": 0,
      "outputs": [
        {
          "output_type": "stream",
          "text": [
            "Evaluating RMSE, MAE of algorithm SVD on 3 split(s).\n",
            "\n",
            "                  Fold 1  Fold 2  Fold 3  Mean    Std     \n",
            "RMSE (testset)    0.9745  0.9763  0.9818  0.9775  0.0031  \n",
            "MAE (testset)     0.7952  0.7918  0.7990  0.7953  0.0029  \n",
            "Fit time          7.67    7.46    7.51    7.55    0.09    \n",
            "Test time         0.27    0.27    0.45    0.33    0.09    \n"
          ],
          "name": "stdout"
        },
        {
          "output_type": "execute_result",
          "data": {
            "text/plain": [
              "{'fit_time': (7.672273874282837, 7.460507869720459, 7.507782459259033),\n",
              " 'test_mae': array([0.79515248, 0.79177142, 0.79898989]),\n",
              " 'test_rmse': array([0.9744905, 0.9762874, 0.9817701]),\n",
              " 'test_time': (0.2675623893737793, 0.2650718688964844, 0.447843074798584)}"
            ]
          },
          "metadata": {
            "tags": []
          },
          "execution_count": 24
        }
      ]
    },
    {
      "metadata": {
        "id": "zsmT9tSSmsHm",
        "colab_type": "text"
      },
      "cell_type": "markdown",
      "source": [
        "##Use user 783514 as an example"
      ]
    },
    {
      "metadata": {
        "_uuid": "9c519e55ef4ae222556048f22bb55e4c8885d864",
        "_cell_guid": "c02b147f-b163-4a67-897e-881fbe2d69cd",
        "id": "jkWDNR1ENXHz",
        "colab_type": "text"
      },
      "cell_type": "markdown",
      "source": [
        "###What user 783514 liked in the past"
      ]
    },
    {
      "metadata": {
        "_uuid": "7b832da6358dc5ad2b3c4c2a60e73cacdfe0fe75",
        "_cell_guid": "dca8773e-5a63-4ac8-9691-77d6a50e1485",
        "trusted": false,
        "id": "7hSs4NQ-NXH0",
        "colab_type": "code",
        "outputId": "f37608ea-7f1e-412e-cea7-6a0b5bdf64a8",
        "colab": {
          "base_uri": "https://localhost:8080/",
          "height": 714
        }
      },
      "cell_type": "code",
      "source": [
        "df_785314 = df[(df['Cust_Id'] == 785314) & (df['Rating'] == 5)]\n",
        "df_785314 = df_785314.set_index('Movie_Id')\n",
        "df_785314 = df_785314.join(df_title)['Name']\n",
        "df_785314"
      ],
      "execution_count": 0,
      "outputs": [
        {
          "output_type": "execute_result",
          "data": {
            "text/plain": [
              "Movie_Id\n",
              "175                                        Reservoir Dogs\n",
              "311                                               Ed Wood\n",
              "329                                                 Dogma\n",
              "331                                           Chasing Amy\n",
              "788                                                Clerks\n",
              "798                                                  Jaws\n",
              "907                                       Animal Crackers\n",
              "985                                             The Mummy\n",
              "1552                                          Black Adder\n",
              "1905    Pirates of the Caribbean: The Curse of the Bla...\n",
              "2000                          Four Weddings and a Funeral\n",
              "2122                                 Being John Malkovich\n",
              "2342                                        Super Size Me\n",
              "2360                                  Singin' in the Rain\n",
              "2430                           Alien: Collector's Edition\n",
              "2443                             Like Water for Chocolate\n",
              "2452        Lord of the Rings: The Fellowship of the Ring\n",
              "2465                                   This Is Spinal Tap\n",
              "2554                        The Rocky Horror Picture Show\n",
              "2848                                          The Hustler\n",
              "2862                             The Silence of the Lambs\n",
              "3150                     Monty Python: The Life of Python\n",
              "3168                            Evil Dead 2: Dead by Dawn\n",
              "3198                                    The Addams Family\n",
              "3315                                   The Maltese Falcon\n",
              "3446                                        Spirited Away\n",
              "3489                                         Time Bandits\n",
              "3590                              Jason and the Argonauts\n",
              "3648            Who Framed Roger Rabbit?: Special Edition\n",
              "3798                                            The Sting\n",
              "3935                                     Yellow Submarine\n",
              "3962                            Finding Nemo (Widescreen)\n",
              "4080                                        A Mighty Wind\n",
              "4227                                       The Full Monty\n",
              "4306                                      The Sixth Sense\n",
              "4345                                Bowling for Columbine\n",
              "4356                                    Road to Perdition\n",
              "4392                                     Army of Darkness\n",
              "4454                                 To Have and Have Not\n",
              "Name: Name, dtype: object"
            ]
          },
          "metadata": {
            "tags": []
          },
          "execution_count": 36
        }
      ]
    },
    {
      "metadata": {
        "_uuid": "c18f9856722f273498b9192e2b722077b9d86962",
        "_cell_guid": "fac49661-d5d9-4d1d-a3f5-110220f18b89",
        "id": "v0S3bUNENXH3",
        "colab_type": "text"
      },
      "cell_type": "markdown",
      "source": [
        "###What user 785314 would love to watch in the future"
      ]
    },
    {
      "metadata": {
        "_uuid": "6f47935958ad57c568fa58253a83452abe83fbed",
        "_cell_guid": "7da1d4f5-ef96-4f33-96ae-a66028f8926d",
        "trusted": false,
        "id": "qosOOJ1_NXH4",
        "colab_type": "code",
        "outputId": "5b43bd1d-42c3-460d-d7f6-52799bfaf10c",
        "colab": {
          "base_uri": "https://localhost:8080/",
          "height": 238
        }
      },
      "cell_type": "code",
      "source": [
        "user_785314 = df_title.copy()\n",
        "user_785314 = user_785314.reset_index()\n",
        "user_785314 = user_785314[~user_785314['Movie_Id'].isin(drop_movie_list)]\n",
        "\n",
        "# getting full dataset\n",
        "data = Dataset.load_from_df(df[['Cust_Id', 'Movie_Id', 'Rating']], reader)\n",
        "\n",
        "trainset = data.build_full_trainset()\n",
        "svd.train(trainset)\n",
        "\n",
        "user_785314['Estimate_Score'] = user_785314['Movie_Id'].apply(lambda x: svd.predict(785314, x).est)\n",
        "\n",
        "user_785314 = user_785314.drop('Movie_Id', axis = 1)\n",
        "\n",
        "user_785314 = user_785314.sort_values('Estimate_Score', ascending=False)\n",
        "print(user_785314.head(10))"
      ],
      "execution_count": 0,
      "outputs": [
        {
          "output_type": "stream",
          "text": [
            "/usr/local/lib/python3.6/dist-packages/surprise/prediction_algorithms/algo_base.py:51: UserWarning: train() is deprecated. Use fit() instead\n",
            "  warnings.warn('train() is deprecated. Use fit() instead', UserWarning)\n"
          ],
          "name": "stderr"
        },
        {
          "output_type": "stream",
          "text": [
            "        Year                                           Name  Estimate_Score\n",
            "3455  2004.0                                 Lost: Season 1        4.218485\n",
            "2101  1994.0                         The Simpsons: Season 6        4.174444\n",
            "2113  2002.0                                        Firefly        4.147903\n",
            "3443  2004.0          Family Guy: Freakin' Sweet Collection        4.136795\n",
            "4426  2001.0                        The West Wing: Season 3        4.124322\n",
            "1475  2004.0                       Six Feet Under: Season 4        4.098810\n",
            "4352  2002.0                 Curb Your Enthusiasm: Season 3        4.051611\n",
            "3045  1990.0              The Simpsons: Treehouse of Horror        4.049617\n",
            "2451  2001.0  Lord of the Rings: The Fellowship of the Ring        4.007420\n",
            "4114  1999.0                        The Simpsons: Bart Wars        4.004292\n"
          ],
          "name": "stdout"
        }
      ]
    },
    {
      "metadata": {
        "id": "5uX-gZLPl03r",
        "colab_type": "text"
      },
      "cell_type": "markdown",
      "source": [
        "#Conclusion"
      ]
    },
    {
      "metadata": {
        "id": "7Cd1-Cavl2XP",
        "colab_type": "text"
      },
      "cell_type": "markdown",
      "source": [
        "This project uses Netflix movie review data as an example to illustrate the process of recommendation modeling. Collaborative filtering model is created using SVD algorithm, and parameters for SVD are chosen from GridSearch. We then can use the final model to recommend Top 10 movies for any user."
      ]
    }
  ]
}